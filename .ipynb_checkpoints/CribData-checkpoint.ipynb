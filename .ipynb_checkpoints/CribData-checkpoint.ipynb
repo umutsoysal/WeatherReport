{
 "cells": [
  {
   "cell_type": "code",
   "execution_count": 13,
   "metadata": {},
   "outputs": [],
   "source": [
    "#Wind Speed in Lake Michigan near Chicago using Crib Data provided by Chicag Harbors\n",
    "\n",
    "import numpy as np\n",
    "import pandas as pd\n",
    "from bs4 import BeautifulSoup\n",
    "import requests"
   ]
  },
  {
   "cell_type": "code",
   "execution_count": 14,
   "metadata": {},
   "outputs": [],
   "source": [
    "url=\"https://www.glerl.noaa.gov/metdata/plot_3hr.php?site=chi&units=e#metdata\"\n",
    "html_content = requests.get(url)"
   ]
  },
  {
   "cell_type": "code",
   "execution_count": 15,
   "metadata": {},
   "outputs": [
    {
     "data": {
      "text/plain": [
       "<div class=\"small\">\n",
       "<pre>\n",
       "                  Wind  Wind  Wind   Air   Dew   Rel\n",
       "                   Spd   Gst   Dir  Temp    Pt   Hum\n",
       "YYYY-MM-DD   CDT   kts   kts   deg     F     F     %\n",
       "2022-08-06 13:50  17.1  17.9   127  81.1  74.4  79.6\n",
       "2022-08-06 13:48  17.1  17.9   126  81.0  74.6  80.6\n",
       "2022-08-06 13:46  17.5  19.1   128  81.0  74.6  80.8\n",
       "2022-08-06 13:44  18.9  19.6   128  81.1  74.5  80.0\n",
       "2022-08-06 13:42  18.5  19.4   130  81.1  74.5  80.0\n",
       "2022-08-06 13:40  18.7  19.8   129  81.1  74.5  80.0\n",
       "2022-08-06 13:38  17.5  18.9   127  81.0  74.9  81.5\n",
       "2022-08-06 13:36  16.5  17.5   126  81.3  74.8  80.2\n",
       "2022-08-06 13:34  16.5  17.9   126  81.3  74.4  79.3\n",
       "2022-08-06 13:32  15.9  17.3   123  81.5  74.3  78.4\n",
       "2022-08-06 13:30  16.7  18.5   124  81.9  74.2  77.3\n",
       "2022-08-06 13:28  17.7  18.3   125  81.5  74.5  79.0\n",
       "2022-08-06 13:26  16.9  17.9   124  81.3  74.9  80.4\n",
       "2022-08-06 13:24  16.5  17.9   124  81.1  74.7  80.6\n",
       "2022-08-06 13:22  16.3  17.9   123  81.3  74.9  80.4\n",
       "2022-08-06 13:20  17.5  17.9   125  81.3  74.5  79.4\n",
       "2022-08-06 13:18  17.5  17.9   126  81.1  74.6  80.3\n",
       "2022-08-06 13:16  16.7  17.7   123  81.3  74.8  80.2\n",
       "2022-08-06 13:14  16.9  18.1   122  81.5  74.6  79.3\n",
       "2022-08-06 13:12  18.7  19.2   126  81.3  74.3  78.9\n",
       "2022-08-06 13:10  17.5  19.1   127  81.0  74.6  80.6\n",
       "2022-08-06 13:08  16.3  17.1   122  81.1  74.6  80.2\n",
       "2022-08-06 13:06  17.3  17.9   122  81.3  74.3  79.0\n",
       "2022-08-06 13:04  18.5  19.2   126  81.3  74.2  78.5\n",
       "2022-08-06 13:02  17.9  19.2   126  80.6  74.4  81.2\n",
       "2022-08-06 13:00  15.9  16.9   123  80.6  75.1  83.1\n",
       "2022-08-06 12:58  17.3  18.5   121  81.0  74.9  81.5\n",
       "2022-08-06 12:56  17.5  18.1   121  81.0  74.5  80.4\n",
       "2022-08-06 12:54  19.1  19.6   124  80.8  74.4  80.5\n",
       "2022-08-06 12:52  18.7  19.4   126  80.8  74.5  80.8\n",
       "2022-08-06 12:50  17.5  18.3   126  80.8  74.6  81.2\n",
       "2022-08-06 12:48  17.1  17.9   125  81.0  74.4  80.1\n",
       "2022-08-06 12:46  17.3  18.1   127  80.6  74.4  81.1\n",
       "2022-08-06 12:44  16.3  17.3   128  80.6  74.8  82.1\n",
       "2022-08-06 12:42  16.9  17.3   129  80.4  74.8  82.7\n",
       "2022-08-06 12:40  17.1  17.9   128  80.6  74.5  81.3\n",
       "2022-08-06 12:38  17.1  17.9   128  81.0  74.4  80.2\n",
       "2022-08-06 12:36  16.9  17.5   128  81.1  74.2  79.0\n",
       "2022-08-06 12:34  17.1  17.9   128  81.0  74.2  79.6\n",
       "2022-08-06 12:32  16.5  16.9   127  80.8  74.3  80.3\n",
       "2022-08-06 12:30  16.1  16.5   129  80.4  74.5  82.0\n",
       "2022-08-06 12:28  15.6  16.3   128  80.2  74.8  83.3\n",
       "2022-08-06 12:26  16.3  17.3   127  80.4  74.8  82.7\n",
       "2022-08-06 12:24  17.1  17.7   125  80.2  74.4  82.0\n",
       "2022-08-06 12:22  15.4  16.3   123  80.1  74.6  83.1\n",
       "2022-08-06 12:20  15.0  15.6   123  80.1  74.8  83.6\n",
       "2022-08-06 12:18  15.0  15.6   121  80.2  74.8  83.3\n",
       "2022-08-06 12:16  15.0  15.4   121  80.2  74.8  83.1\n",
       "2022-08-06 12:14  15.4  15.9   124  80.2  74.7  82.8\n",
       "2022-08-06 12:12  15.6  16.1   124  80.2  74.4  82.0\n",
       "2022-08-06 12:10  15.2  16.1   121  80.2  74.6  82.5\n",
       "2022-08-06 12:08  14.4  15.0   121  80.2  74.5  82.4\n",
       "2022-08-06 12:06  14.8  15.9   119  80.2  74.3  81.8\n",
       "2022-08-06 12:04  15.2  15.9   123  79.9  74.5  83.4\n",
       "2022-08-06 12:02  13.8  14.4   118  80.1  74.9  84.0\n",
       "2022-08-06 12:00  13.8  14.4   116  80.2  74.6  82.5\n",
       "2022-08-06 11:58  13.8  14.0   117  80.6  74.3  80.7\n",
       "2022-08-06 11:56  13.6  14.0   124  80.2  74.1  81.2\n",
       "2022-08-06 11:54  12.8  13.2   125  80.4  74.7  82.3\n",
       "2022-08-06 11:52  13.0  13.4   123  80.2  74.3  81.8\n",
       "2022-08-06 11:50  12.6  13.0   121  80.1  74.7  83.3\n",
       "2022-08-06 11:48  12.4  12.6   120  79.9  74.6  83.7\n",
       "2022-08-06 11:46  12.2  12.6   119  79.9  74.8  84.2\n",
       "2022-08-06 11:44  12.6  12.8   121  79.9  74.6  83.7\n",
       "2022-08-06 11:42  12.4  12.8   122  79.7  74.8  84.6\n",
       "2022-08-06 11:40  12.6  13.0   122  79.9  74.7  83.9\n",
       "2022-08-06 11:38  12.2  12.6   122  79.9  74.7  84.0\n",
       "2022-08-06 11:36  12.6  13.0   121  79.9  74.6  83.6\n",
       "2022-08-06 11:34  13.2  13.8   124  79.9  74.3  82.8\n",
       "2022-08-06 11:32  13.6  13.8   127  79.9  74.2  82.6\n",
       "2022-08-06 11:30  13.6  14.2   129  79.9  74.3  82.9\n",
       "2022-08-06 11:28  13.8  14.2   128  79.9  74.4  83.0\n",
       "2022-08-06 11:26  13.8  14.2   128  79.9  74.2  82.4\n",
       "2022-08-06 11:24  14.2  14.4   130  79.7  74.1  82.7\n",
       "2022-08-06 11:22  14.4  14.8   128  79.7  74.2  82.9\n",
       "2022-08-06 11:20  15.0  15.4   129  79.7  74.1  82.6\n",
       "2022-08-06 11:18  15.0  15.7   131  80.1  73.8  80.8\n",
       "2022-08-06 11:16  15.0  15.4   135  79.9  73.8  81.4\n",
       "2022-08-06 11:14  14.4  14.8   133  79.7  73.9  82.2\n",
       "2022-08-06 11:12  14.2  14.8   133  79.5  73.8  82.5\n",
       "2022-08-06 11:10  14.8  15.0   134  79.5  73.7  82.2\n",
       "2022-08-06 11:08  14.8  15.6   133  79.5  73.7  82.2\n",
       "2022-08-06 11:06  15.2  15.7   134  79.2  73.7  83.1\n",
       "2022-08-06 11:04  13.6  14.6   130  79.2  74.1  84.2\n",
       "2022-08-06 11:02  13.4  14.0   131  79.3  73.9  83.1\n",
       "2022-08-06 11:00  13.8  14.2   134  79.5  73.8  82.5\n",
       "2022-08-06 10:58  13.8  14.2   136  79.5  73.7  82.1\n",
       "2022-08-06 10:56  14.0  14.2   138  79.3  73.6  82.4\n",
       "2022-08-06 10:54  13.4  14.2   135  79.3  73.8  82.9\n",
       "2022-08-06 10:52  13.0  13.4   133  79.2  73.7  83.0\n",
       "2022-08-06 10:50  13.2  13.6   133  79.2  73.9  83.6\n",
       "</pre>\n",
       "</div>"
      ]
     },
     "execution_count": 15,
     "metadata": {},
     "output_type": "execute_result"
    }
   ],
   "source": [
    "# Parse the html content\n",
    "soup = BeautifulSoup(html_content.content, \"html.parser\")\n",
    "\n",
    "# print the parsed data of html\n",
    "mydivs=soup.find_all(\"div\",{\"class\":\"small\"})\n",
    "mytable=mydivs[2]\n",
    "mytable\n",
    "#type(mytable)"
   ]
  },
  {
   "cell_type": "code",
   "execution_count": 16,
   "metadata": {},
   "outputs": [],
   "source": [
    "table = soup.find(\"pre\").contents[0]"
   ]
  },
  {
   "cell_type": "code",
   "execution_count": 17,
   "metadata": {},
   "outputs": [
    {
     "data": {
      "text/plain": [
       "bs4.element.NavigableString"
      ]
     },
     "execution_count": 17,
     "metadata": {},
     "output_type": "execute_result"
    }
   ],
   "source": [
    "type(table)"
   ]
  },
  {
   "cell_type": "code",
   "execution_count": 18,
   "metadata": {},
   "outputs": [],
   "source": [
    "data = str(table.string)"
   ]
  },
  {
   "cell_type": "code",
   "execution_count": 19,
   "metadata": {},
   "outputs": [],
   "source": [
    "df = pd.DataFrame([x.split(';') for x in data.split('\\n')[1:]], columns=[x for x in data.split('\\n')[0].split(';')])\n",
    "#print(df)\n",
    "df1=df[3:]\n",
    "df1.columns = ['raw']\n",
    "df1=df1.raw.str.split(expand=True,)\n",
    "df1.columns = ['Date','CDT','WindSpeed(kts)','WindGust(kts)','WindDir(ang)','AirTemp(F)','DewPoint(F)','RelHum(%)']\n",
    "df1.drop(df1.tail(1).index,inplace=True) # drop last n rows\n",
    "df1.reset_index(drop=True)\n",
    "\n",
    "df1[[\"WindSpeed(kts)\", \"WindGust(kts)\",'WindDir(ang)']] = df1[[\"WindSpeed(kts)\", \"WindGust(kts)\",'WindDir(ang)']].apply(pd.to_numeric)"
   ]
  },
  {
   "cell_type": "code",
   "execution_count": 20,
   "metadata": {},
   "outputs": [
    {
     "data": {
      "text/plain": [
       "[<matplotlib.lines.Line2D at 0x7f8a84001090>]"
      ]
     },
     "execution_count": 20,
     "metadata": {},
     "output_type": "execute_result"
    },
    {
     "data": {
      "image/png": "[encoded data removed]",
      "text/plain": [
       "<Figure size 432x288 with 1 Axes>"
      ]
     },
     "metadata": {
      "needs_background": "light"
     },
     "output_type": "display_data"
    }
   ],
   "source": [
    "import matplotlib.pyplot as plt\n",
    "plt.plot(df1['WindSpeed(kts)'])"
   ]
  },
  {
   "cell_type": "code",
   "execution_count": 12,
   "metadata": {},
   "outputs": [
    {
     "data": {
      "text/plain": [
       "3     17.1\n",
       "4     17.1\n",
       "5     17.5\n",
       "6     18.9\n",
       "7     18.5\n",
       "      ... \n",
       "89    13.8\n",
       "90    14.0\n",
       "91    13.4\n",
       "92    13.0\n",
       "93    13.2\n",
       "Name: WindSpeed(kts), Length: 91, dtype: float64"
      ]
     },
     "execution_count": 12,
     "metadata": {},
     "output_type": "execute_result"
    }
   ],
   "source": [
    "df1[\"WindSpeed(kts)\"]"
   ]
  },
  {
   "cell_type": "code",
   "execution_count": null,
   "metadata": {},
   "outputs": [],
   "source": []
  },
  {
   "cell_type": "code",
   "execution_count": null,
   "metadata": {},
   "outputs": [],
   "source": []
  }
 ],
 "metadata": {
  "kernelspec": {
   "display_name": "Python 3",
   "language": "python",
   "name": "python3"
  },
  "language_info": {
   "codemirror_mode": {
    "name": "ipython",
    "version": 3
   },
   "file_extension": ".py",
   "mimetype": "text/x-python",
   "name": "python",
   "nbconvert_exporter": "python",
   "pygments_lexer": "ipython3",
   "version": "3.7.4"
  }
 },
 "nbformat": 4,
 "nbformat_minor": 5
}
